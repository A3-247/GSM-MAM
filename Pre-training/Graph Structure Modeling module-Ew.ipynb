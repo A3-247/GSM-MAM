{
 "cells": [
  {
   "cell_type": "code",
   "execution_count": 1,
   "id": "665e4da8",
   "metadata": {},
   "outputs": [],
   "source": [
    "#Read the data\n",
    "import scipy.io as scio\n",
    "data={ }"
   ]
  },
  {
   "cell_type": "code",
   "execution_count": 2,
   "id": "c9931055",
   "metadata": {},
   "outputs": [],
   "source": [
    "import numpy as np\n",
    "from numpy import array"
   ]
  },
  {
   "cell_type": "code",
   "execution_count": 19,
   "id": "2040df79",
   "metadata": {},
   "outputs": [],
   "source": [
    "#MRI and fMRI data import\n",
    "I=0\n",
    "for i in range(161):\n",
    "    if i==0 or i==3 or i==4 or i==6 or i==42 or i==84 or i==114:\n",
    "        continue;\n",
    "    if i<10:\n",
    "        data[I]=scio.loadmat('./resultsROI_Subject00'+str(i)+'_Condition001.mat')\n",
    "    elif i>=10 and i<=99:\n",
    "        data[I]=scio.loadmat('./resultsROI_Subject0'+str(i)+'_Condition001.mat')\n",
    "    else:\n",
    "        data[I]=scio.loadmat('./resultsROI_Subject'+str(i)+'_Condition001.mat')\n",
    "    I=I+1"
   ]
  },
  {
   "cell_type": "code",
   "execution_count": 21,
   "id": "7ef881b4",
   "metadata": {},
   "outputs": [],
   "source": [
    "XXX_2d = [[0 for i in range(13858)]for j in range(161)]"
   ]
  },
  {
   "cell_type": "code",
   "execution_count": 22,
   "id": "9ff3e015",
   "metadata": {},
   "outputs": [],
   "source": [
    "X ={ }\n",
    "for i in range(161):\n",
    "    X[i]=data[i]['Z']"
   ]
  },
  {
   "cell_type": "code",
   "execution_count": 26,
   "id": "496fe829",
   "metadata": {},
   "outputs": [],
   "source": [
    "XXX=np.array(XXX_2d,dtype=float)"
   ]
  },
  {
   "cell_type": "code",
   "execution_count": 27,
   "id": "7a50f596",
   "metadata": {},
   "outputs": [],
   "source": [
    "from sklearn.feature_selection import SelectKBest, f_regression\n",
    "from sklearn.metrics import r2_score, mean_squared_error\n",
    "from sklearn.linear_model import LinearRegression\n",
    "from sklearn.model_selection import train_test_split"
   ]
  },
  {
   "cell_type": "code",
   "execution_count": 28,
   "id": "b99d6c98",
   "metadata": {},
   "outputs": [],
   "source": [
    "from sklearn import svm\n",
    "from sklearn.metrics import mean_squared_error, mean_absolute_error, r2_score"
   ]
  },
  {
   "cell_type": "code",
   "execution_count": 29,
   "id": "f03e2d1a",
   "metadata": {},
   "outputs": [],
   "source": [
    "def sigmoid(x):\n",
    "    return 1 / (1 + np.exp(-x))"
   ]
  },
  {
   "cell_type": "code",
   "execution_count": null,
   "id": "74bd1cb6",
   "metadata": {},
   "outputs": [],
   "source": [
    "KK1,KK2=-1,-1\n",
    "for kk1 in range(0,100):\n",
    "    kk2=100-kk1;\n",
    "    if (kk2<kk1):\n",
    "        break\n",
    "    XANS = np.array([[[0 for i in range(167)] for j in range(164)] for k in range(161)],dtype='float')\n",
    "    for i in range(161):\n",
    "        for j in range(164):\n",
    "            for k in range(167):\n",
    "                XANS[i][j][k]=np.array(X[i][j][k],dtype='float')\n",
    "    para_b=np.array(kk1/100,dtype='float')\n",
    "    para_a=np.array(kk2/100,dtype='float')\n",
    "    for ii in range(161):\n",
    "        for k in range(164):\n",
    "            for i in range(164):\n",
    "                for j in range(164):\n",
    "                    if XANS[ii][i][j]<0:\n",
    "                        if XANS[ii][i][k]<0 and XANS[ii][k][j]<0:\n",
    "                            if ((XANS[ii][i][k])*para_a+(XANS[ii][k][j])*para_b)<XANS[ii][i][j]:\n",
    "                                XANS[ii][i][j]=sigmoid(((XANS[ii][i][k])*para_a+(XANS[ii][k][j])*para_b))\n",
    "                    if XANS[ii][i][j]>0:\n",
    "                        if XANS[ii][i][k]>0 and XANS[ii][k][j]>0:\n",
    "                            if ((XANS[ii][i][k])*para_a+(XANS[ii][k][j])*para_b)>XANS[ii][i][j]:\n",
    "                                XANS[ii][i][j]=sigmoid(((XANS[ii][i][k])*para_a+(XANS[ii][k][j])*para_b))\n",
    "    from scipy.io import savemat\n",
    "    savemat('floyd'+str(kk2)+'_'+str(kk1)+'.mat',{'Z': XANS})"
   ]
  },
  {
   "cell_type": "code",
   "execution_count": null,
   "id": "4c8f77c9",
   "metadata": {},
   "outputs": [],
   "source": []
  },
  {
   "cell_type": "code",
   "execution_count": null,
   "id": "2f04df04",
   "metadata": {},
   "outputs": [],
   "source": []
  }
 ],
 "metadata": {
  "kernelspec": {
   "display_name": "Python 3 (ipykernel)",
   "language": "python",
   "name": "python3"
  },
  "language_info": {
   "codemirror_mode": {
    "name": "ipython",
    "version": 3
   },
   "file_extension": ".py",
   "mimetype": "text/x-python",
   "name": "python",
   "nbconvert_exporter": "python",
   "pygments_lexer": "ipython3",
   "version": "3.8.18"
  }
 },
 "nbformat": 4,
 "nbformat_minor": 5
}
